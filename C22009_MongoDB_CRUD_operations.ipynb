{
  "nbformat": 4,
  "nbformat_minor": 0,
  "metadata": {
    "colab": {
      "provenance": []
    },
    "kernelspec": {
      "name": "python3",
      "display_name": "Python 3"
    },
    "language_info": {
      "name": "python"
    }
  },
  "cells": [
    {
      "cell_type": "markdown",
      "source": [
        "#Installation"
      ],
      "metadata": {
        "id": "6uyz9oZoowuW"
      }
    },
    {
      "cell_type": "code",
      "execution_count": null,
      "metadata": {
        "id": "qAODb3dAojMU"
      },
      "outputs": [],
      "source": [
        "from pymongo import MongoClient\n",
        "import pandas as pd\n",
        "import dateutil"
      ]
    },
    {
      "cell_type": "code",
      "source": [
        "!apt install mongodb > /dev/null\n",
        "!service mongodb start"
      ],
      "metadata": {
        "colab": {
          "base_uri": "https://localhost:8080/"
        },
        "id": "XC2FHLyjo-sy",
        "outputId": "d881dc7b-fc55-4222-d736-dcf631a6d11b"
      },
      "execution_count": null,
      "outputs": [
        {
          "output_type": "stream",
          "name": "stdout",
          "text": [
            "\n",
            "WARNING: apt does not have a stable CLI interface. Use with caution in scripts.\n",
            "\n",
            " * Starting database mongodb\n",
            "   ...done.\n"
          ]
        }
      ]
    },
    {
      "cell_type": "code",
      "source": [
        "mongoURI = \"mongodb://localhost:27017/\"\n",
        "client = MongoClient(mongoURI)\n",
        "client.list_database_names() # ['admin', 'local']"
      ],
      "metadata": {
        "colab": {
          "base_uri": "https://localhost:8080/"
        },
        "id": "BHfxVN5CpCFA",
        "outputId": "190d4143-c78b-4b72-9a30-aeb6d68d7801"
      },
      "execution_count": null,
      "outputs": [
        {
          "output_type": "execute_result",
          "data": {
            "text/plain": [
              "['PraxisDB', 'admin', 'config', 'local']"
            ]
          },
          "metadata": {},
          "execution_count": 40
        }
      ]
    },
    {
      "cell_type": "markdown",
      "source": [
        "# Create Database objects"
      ],
      "metadata": {
        "id": "Ie6tav24pQAX"
      }
    },
    {
      "cell_type": "code",
      "source": [
        "# Delete a database\n",
        "client.drop_database('DBMSDB')"
      ],
      "metadata": {
        "id": "p_5_B5cLpSif"
      },
      "execution_count": null,
      "outputs": []
    },
    {
      "cell_type": "code",
      "source": [
        "# Create a new collection. We can create the collection or leave to MongoDB to create it as soon as a document is generated.\n",
        "db = client.DBMSDB\n",
        "db.create_collection('address')       # Optional collection creation "
      ],
      "metadata": {
        "colab": {
          "base_uri": "https://localhost:8080/"
        },
        "id": "vYHCCa-8pddH",
        "outputId": "24bd89e3-d805-47f7-d624-ba4ac163af43"
      },
      "execution_count": null,
      "outputs": [
        {
          "output_type": "execute_result",
          "data": {
            "text/plain": [
              "Collection(Database(MongoClient(host=['localhost:27017'], document_class=dict, tz_aware=False, connect=True), 'DBMSDB'), 'address')"
            ]
          },
          "metadata": {},
          "execution_count": 45
        }
      ]
    },
    {
      "cell_type": "code",
      "source": [
        "#list to see the content\n",
        "list (db.list_collections())"
      ],
      "metadata": {
        "colab": {
          "base_uri": "https://localhost:8080/"
        },
        "id": "ioTFIdLbpdfm",
        "outputId": "840a52ba-7320-47fc-fab1-e0c9c01c8ae1"
      },
      "execution_count": null,
      "outputs": [
        {
          "output_type": "execute_result",
          "data": {
            "text/plain": [
              "[{'idIndex': {'key': {'_id': 1},\n",
              "   'name': '_id_',\n",
              "   'ns': 'DBMSDB.address',\n",
              "   'v': 2},\n",
              "  'info': {'readOnly': False,\n",
              "   'uuid': Binary(b\"\\x16E'\\x85J\\xc4O\\x1a\\xa4z\\xbb\\xf5\\xba\\x0cY\\xe3\", 4)},\n",
              "  'name': 'address',\n",
              "  'options': {},\n",
              "  'type': 'collection'}]"
            ]
          },
          "metadata": {},
          "execution_count": 46
        }
      ]
    },
    {
      "cell_type": "code",
      "source": [
        "# Set the collection to work with\n",
        "kollection = db.addresses\n",
        "kollection.insert_one({'name' : 'harendra'})     # Insert one item to create the collection\n",
        "list (kollection.find())                  # Show the existing collections"
      ],
      "metadata": {
        "colab": {
          "base_uri": "https://localhost:8080/"
        },
        "id": "XsOToQdIpdjK",
        "outputId": "e4396951-c5a8-410f-9505-6a4e29fb5abe"
      },
      "execution_count": null,
      "outputs": [
        {
          "output_type": "execute_result",
          "data": {
            "text/plain": [
              "[{'_id': ObjectId('629f2566f4dda5cff7ffde49'), 'name': 'harendra'}]"
            ]
          },
          "metadata": {},
          "execution_count": 8
        }
      ]
    },
    {
      "cell_type": "code",
      "source": [
        "# Rename a collections\n",
        "db.addresses.rename('addressbook')\n",
        "kollection2 = db.addressbook                   # Set the collection to work with\n",
        "list (db.list_collections())                  # Show the existing collections"
      ],
      "metadata": {
        "colab": {
          "base_uri": "https://localhost:8080/"
        },
        "id": "BxmxrtPkqml4",
        "outputId": "6cb0fc96-1e6e-4ac3-ae54-3e15e4ec0ea2"
      },
      "execution_count": null,
      "outputs": [
        {
          "output_type": "execute_result",
          "data": {
            "text/plain": [
              "[{'idIndex': {'key': {'_id': 1},\n",
              "   'name': '_id_',\n",
              "   'ns': 'PraxisDB.addressbook',\n",
              "   'v': 2},\n",
              "  'info': {'readOnly': False,\n",
              "   'uuid': Binary(b'\\x85\\x10 \\x84\\x9f F\\x15\\xa8C\\x14\\x86l2K\\x93', 4)},\n",
              "  'name': 'addressbook',\n",
              "  'options': {},\n",
              "  'type': 'collection'}]"
            ]
          },
          "metadata": {},
          "execution_count": 9
        }
      ]
    },
    {
      "cell_type": "code",
      "source": [
        "# Delete collection\n",
        "db.drop_collection('addressbook')"
      ],
      "metadata": {
        "colab": {
          "base_uri": "https://localhost:8080/"
        },
        "id": "w5q2WU3kqmsX",
        "outputId": "31cb2997-b6fc-47f2-b7e7-d83dedb31896"
      },
      "execution_count": null,
      "outputs": [
        {
          "output_type": "execute_result",
          "data": {
            "text/plain": [
              "{'nIndexesWas': 1, 'ns': 'PraxisDB.addressbook', 'ok': 1.0}"
            ]
          },
          "metadata": {},
          "execution_count": 10
        }
      ]
    },
    {
      "cell_type": "code",
      "source": [
        "client.list_database_names() "
      ],
      "metadata": {
        "colab": {
          "base_uri": "https://localhost:8080/"
        },
        "id": "v8z_naFirKT3",
        "outputId": "d78d3d7c-2884-48dc-957a-ca17f74b3c3a"
      },
      "execution_count": null,
      "outputs": [
        {
          "output_type": "execute_result",
          "data": {
            "text/plain": [
              "['admin', 'config', 'local']"
            ]
          },
          "metadata": {},
          "execution_count": 11
        }
      ]
    },
    {
      "cell_type": "markdown",
      "source": [
        "# Operations"
      ],
      "metadata": {
        "id": "0YvgkGhtrLI6"
      }
    },
    {
      "cell_type": "markdown",
      "source": [
        "## Single Row Insert"
      ],
      "metadata": {
        "id": "ovJ26MlhrN_v"
      }
    },
    {
      "cell_type": "code",
      "source": [
        "cDoc1 = {  'name' : 'harendra' ,                                     # String \n",
        "          'age' : '27',                                             # Integer\n",
        "          'gender' : 'Male',                                        # String \n",
        "          'likes_code' : False,                                      # Boolean\n",
        "          'address': {\n",
        "              'street' : 'SNP Agraharam',                          # String ( special character with escape \\ )\n",
        "              'number' : 210,                                        # Integer\n",
        "              'city' : 'bapatla',                                   # String \n",
        "              'floor' : None,                                       # Null \n",
        "              'postalcode' : '522101',                              # String containing a number\n",
        "              },\n",
        "          'favouritefruits': ['apple','mango','orange']         # Array        \n",
        "       }"
      ],
      "metadata": {
        "id": "BoZAcBVxrQMG"
      },
      "execution_count": null,
      "outputs": []
    },
    {
      "cell_type": "code",
      "source": [
        "# Define database, collection etc\n",
        "db = client.PraxisDB\n",
        "# Delete collection\n",
        "db.drop_collection('AddressBook')\n",
        "db.create_collection('AddressBook')       # Optional collection creation \n",
        "kollection3 = db.AddressBook                   # Set the collection to work with\n",
        "insert_result = kollection3.insert_one( cDoc1)\n",
        "insert_result.acknowledged    # Confirms that insert is successful"
      ],
      "metadata": {
        "colab": {
          "base_uri": "https://localhost:8080/"
        },
        "id": "d-gzFnPdrXL-",
        "outputId": "8de6cb8a-e22c-4a7c-bb0e-8254411e547c"
      },
      "execution_count": null,
      "outputs": [
        {
          "output_type": "execute_result",
          "data": {
            "text/plain": [
              "True"
            ]
          },
          "metadata": {},
          "execution_count": 13
        }
      ]
    },
    {
      "cell_type": "code",
      "source": [
        "insert_result.inserted_id     # Shows the document ID "
      ],
      "metadata": {
        "colab": {
          "base_uri": "https://localhost:8080/"
        },
        "id": "jAO3c_Shs-4e",
        "outputId": "2d8d38c9-c2dc-43f1-9abe-e85819a11f26"
      },
      "execution_count": null,
      "outputs": [
        {
          "output_type": "execute_result",
          "data": {
            "text/plain": [
              "ObjectId('629f27e2f4dda5cff7ffde4a')"
            ]
          },
          "metadata": {},
          "execution_count": 14
        }
      ]
    },
    {
      "cell_type": "code",
      "source": [
        "db.AddressBook.find()  # returns a cursor"
      ],
      "metadata": {
        "colab": {
          "base_uri": "https://localhost:8080/"
        },
        "id": "P9Xlfv4Vs-7Q",
        "outputId": "104db120-0d85-4949-ddb1-f2704f8a8103"
      },
      "execution_count": null,
      "outputs": [
        {
          "output_type": "execute_result",
          "data": {
            "text/plain": [
              "<pymongo.cursor.Cursor at 0x7ff9a906f190>"
            ]
          },
          "metadata": {},
          "execution_count": 15
        }
      ]
    },
    {
      "cell_type": "code",
      "source": [
        "#c = db.AddressBook.find()\n",
        "c = kollection3.find()\n",
        "for crnt in c:\n",
        "    print(crnt)"
      ],
      "metadata": {
        "colab": {
          "base_uri": "https://localhost:8080/"
        },
        "id": "DDSXeIJrs--N",
        "outputId": "d55a2214-1865-4696-cf4f-e0e4b48297b4"
      },
      "execution_count": null,
      "outputs": [
        {
          "output_type": "stream",
          "name": "stdout",
          "text": [
            "{'_id': ObjectId('629f27e2f4dda5cff7ffde4a'), 'name': 'harendra', 'age': '27', 'gender': 'Male', 'likes_code': False, 'address': {'street': 'SNP Agraharam', 'number': 210, 'city': 'bapatla', 'floor': None, 'postalcode': '522101'}, 'favouritefruits': ['apple', 'mango', 'orange']}\n"
          ]
        }
      ]
    },
    {
      "cell_type": "code",
      "source": [
        "cDoc2 = {  'name' : 'Jaswanth' ,                                     # String \n",
        "          'age' : '25',                                             # Integer\n",
        "          'gender' : 'Male',                                        # String \n",
        "          'likes_code' : False,                                      # Boolean\n",
        "          'address': {\n",
        "              'street' : None,                          # String ( special character with escape \\ )\n",
        "              'number' : None,                                        # Integer\n",
        "              'city' : 'Adelaide',                                   # String \n",
        "              'floor' : None,                                       # Null \n",
        "              'postalcode' : '700001',                              # String containing a number\n",
        "              },\n",
        "          'favouritefruits': ['apple','guava','mango']         # Array        \n",
        "       }"
      ],
      "metadata": {
        "id": "hjmZMR55tKd2"
      },
      "execution_count": null,
      "outputs": []
    },
    {
      "cell_type": "code",
      "source": [
        "insert_result = kollection3.insert_one( cDoc2)\n",
        "insert_result.acknowledged    # Confirms that insert is successful"
      ],
      "metadata": {
        "colab": {
          "base_uri": "https://localhost:8080/"
        },
        "id": "WbepHCeltKj_",
        "outputId": "9ec8ecc6-4341-4935-dc7f-14961c468094"
      },
      "execution_count": null,
      "outputs": [
        {
          "output_type": "execute_result",
          "data": {
            "text/plain": [
              "True"
            ]
          },
          "metadata": {},
          "execution_count": 18
        }
      ]
    },
    {
      "cell_type": "code",
      "source": [
        "#c = db.AddressBook.find()\n",
        "c = kollection3.find()\n",
        "for crnt in c:\n",
        "    print(crnt)"
      ],
      "metadata": {
        "colab": {
          "base_uri": "https://localhost:8080/"
        },
        "id": "GFxsYY-1tKo4",
        "outputId": "d3203ff9-8fd5-46b6-9726-52ecec60f243"
      },
      "execution_count": null,
      "outputs": [
        {
          "output_type": "stream",
          "name": "stdout",
          "text": [
            "{'_id': ObjectId('629f27e2f4dda5cff7ffde4a'), 'name': 'harendra', 'age': '27', 'gender': 'Male', 'likes_code': False, 'address': {'street': 'SNP Agraharam', 'number': 210, 'city': 'bapatla', 'floor': None, 'postalcode': '522101'}, 'favouritefruits': ['apple', 'mango', 'orange']}\n",
            "{'_id': ObjectId('629f2860f4dda5cff7ffde4b'), 'name': 'Jaswanth', 'age': '25', 'gender': 'Male', 'likes_code': False, 'address': {'street': None, 'number': None, 'city': 'Adelaide', 'floor': None, 'postalcode': '700001'}, 'favouritefruits': ['apple', 'guava', 'mango']}\n"
          ]
        }
      ]
    },
    {
      "cell_type": "code",
      "source": [
        "cDoc3 = {  'name' : 'Narendra' ,                                     # String \n",
        "          'age' : '54',                                             # Integer\n",
        "          'gender' : 'Male',                                        # String \n",
        "          'likes_code' : False,                                      # Boolean\n",
        "          'address': {\n",
        "              'street' : None,                          # String ( special character with escape \\ )\n",
        "              'number' : None,                                        # Integer\n",
        "              'city' : 'Bapatla',                                   # String \n",
        "              'floor' : None,                                       # Null \n",
        "              'postalcode' : '522101',                              # String containing a number\n",
        "              },\n",
        "          'favouritefruits': ['apple','guava','mango']         # Array        \n",
        "       }\n",
        "\n",
        "cDoc4 = {  'name' : 'Padmavathi' ,                                     # String \n",
        "          'age' : '53',                                             # Integer\n",
        "          'gender' : 'Female',                                        # String \n",
        "          'likes_code' : False,                                      # Boolean\n",
        "          'address': {\n",
        "              'street' : None,                          # String ( special character with escape \\ )\n",
        "              'number' : None,                                        # Integer\n",
        "              'city' : 'Bapatla',                                   # String \n",
        "              'floor' : None,                                       # Null \n",
        "              'postalcode' : '522101',                              # String containing a number\n",
        "              },\n",
        "          'favouritefruits': ['apple','guava','mango']         # Array        \n",
        "       }"
      ],
      "metadata": {
        "id": "nCrzhXi8tiHU"
      },
      "execution_count": null,
      "outputs": []
    },
    {
      "cell_type": "code",
      "source": [
        "insert_result = kollection3.insert_many([cDoc3,cDoc4])"
      ],
      "metadata": {
        "id": "WGhoAN9Ft46Y"
      },
      "execution_count": null,
      "outputs": []
    },
    {
      "cell_type": "code",
      "source": [
        "#c = db.AddressBook.find()\n",
        "c = kollection3.find()\n",
        "for crnt in c:\n",
        "    print(crnt)"
      ],
      "metadata": {
        "colab": {
          "base_uri": "https://localhost:8080/"
        },
        "id": "FwdaybhUt4_v",
        "outputId": "05d741d1-7c29-4d6c-e4f2-b5780e101222"
      },
      "execution_count": null,
      "outputs": [
        {
          "output_type": "stream",
          "name": "stdout",
          "text": [
            "{'_id': ObjectId('629f27e2f4dda5cff7ffde4a'), 'name': 'harendra', 'age': '27', 'gender': 'Male', 'likes_code': False, 'address': {'street': 'SNP Agraharam', 'number': 210, 'city': 'bapatla', 'floor': None, 'postalcode': '522101'}, 'favouritefruits': ['apple', 'mango', 'orange']}\n",
            "{'_id': ObjectId('629f2860f4dda5cff7ffde4b'), 'name': 'Jaswanth', 'age': '25', 'gender': 'Male', 'likes_code': False, 'address': {'street': None, 'number': None, 'city': 'Adelaide', 'floor': None, 'postalcode': '700001'}, 'favouritefruits': ['apple', 'guava', 'mango']}\n",
            "{'_id': ObjectId('629f28e3f4dda5cff7ffde4c'), 'name': 'Narendra', 'age': '54', 'gender': 'Male', 'likes_code': False, 'address': {'street': None, 'number': None, 'city': 'Bapatla', 'floor': None, 'postalcode': '522101'}, 'favouritefruits': ['apple', 'guava', 'mango']}\n",
            "{'_id': ObjectId('629f28e3f4dda5cff7ffde4d'), 'name': 'Padmavathi', 'age': '53', 'gender': 'Female', 'likes_code': False, 'address': {'street': None, 'number': None, 'city': 'Bapatla', 'floor': None, 'postalcode': '522101'}, 'favouritefruits': ['apple', 'guava', 'mango']}\n"
          ]
        }
      ]
    },
    {
      "cell_type": "markdown",
      "source": [
        "##Read"
      ],
      "metadata": {
        "id": "1HmcvV7kuCCI"
      }
    },
    {
      "cell_type": "code",
      "source": [
        "list(kollection3.find())"
      ],
      "metadata": {
        "colab": {
          "base_uri": "https://localhost:8080/"
        },
        "id": "wi90ft8ot5DR",
        "outputId": "f46bc1d2-e1d0-4995-f762-b11b4a12a14d"
      },
      "execution_count": null,
      "outputs": [
        {
          "output_type": "execute_result",
          "data": {
            "text/plain": [
              "[{'_id': ObjectId('629f27e2f4dda5cff7ffde4a'),\n",
              "  'address': {'city': 'bapatla',\n",
              "   'floor': None,\n",
              "   'number': 210,\n",
              "   'postalcode': '522101',\n",
              "   'street': 'SNP Agraharam'},\n",
              "  'age': '27',\n",
              "  'favouritefruits': ['apple', 'mango', 'orange'],\n",
              "  'gender': 'Male',\n",
              "  'likes_code': False,\n",
              "  'name': 'harendra'},\n",
              " {'_id': ObjectId('629f2860f4dda5cff7ffde4b'),\n",
              "  'address': {'city': 'Adelaide',\n",
              "   'floor': None,\n",
              "   'number': None,\n",
              "   'postalcode': '700001',\n",
              "   'street': None},\n",
              "  'age': '25',\n",
              "  'favouritefruits': ['apple', 'guava', 'mango'],\n",
              "  'gender': 'Male',\n",
              "  'likes_code': False,\n",
              "  'name': 'Jaswanth'},\n",
              " {'_id': ObjectId('629f28e3f4dda5cff7ffde4c'),\n",
              "  'address': {'city': 'Bapatla',\n",
              "   'floor': None,\n",
              "   'number': None,\n",
              "   'postalcode': '522101',\n",
              "   'street': None},\n",
              "  'age': '54',\n",
              "  'favouritefruits': ['apple', 'guava', 'mango'],\n",
              "  'gender': 'Male',\n",
              "  'likes_code': False,\n",
              "  'name': 'Narendra'},\n",
              " {'_id': ObjectId('629f28e3f4dda5cff7ffde4d'),\n",
              "  'address': {'city': 'Bapatla',\n",
              "   'floor': None,\n",
              "   'number': None,\n",
              "   'postalcode': '522101',\n",
              "   'street': None},\n",
              "  'age': '53',\n",
              "  'favouritefruits': ['apple', 'guava', 'mango'],\n",
              "  'gender': 'Female',\n",
              "  'likes_code': False,\n",
              "  'name': 'Padmavathi'}]"
            ]
          },
          "metadata": {},
          "execution_count": 23
        }
      ]
    },
    {
      "cell_type": "code",
      "source": [
        "list ( kollection3.find( {'name' : 'harendra' } ))   \n",
        "#list ( kollection3.find( {'name' : 'Narendra' } ))   \n",
        "#list ( kollection3.find( {'name' : 'Jaswanth' } ))   \n",
        "#list ( kollection3.find( {'name' : 'Padmavathi' } ))   "
      ],
      "metadata": {
        "colab": {
          "base_uri": "https://localhost:8080/"
        },
        "id": "EGz8hJRiuHUA",
        "outputId": "b42925ce-1295-4ca5-dbd3-e2588769bed6"
      },
      "execution_count": null,
      "outputs": [
        {
          "output_type": "execute_result",
          "data": {
            "text/plain": [
              "[{'_id': ObjectId('629f27e2f4dda5cff7ffde4a'),\n",
              "  'address': {'city': 'bapatla',\n",
              "   'floor': None,\n",
              "   'number': 210,\n",
              "   'postalcode': '522101',\n",
              "   'street': 'SNP Agraharam'},\n",
              "  'age': '27',\n",
              "  'favouritefruits': ['apple', 'mango', 'orange'],\n",
              "  'gender': 'Male',\n",
              "  'likes_code': False,\n",
              "  'name': 'harendra'}]"
            ]
          },
          "metadata": {},
          "execution_count": 28
        }
      ]
    },
    {
      "cell_type": "code",
      "source": [
        "list ( kollection3.find( {'address.postalcode' : '522101' } ))             # find, can use one key or more "
      ],
      "metadata": {
        "colab": {
          "base_uri": "https://localhost:8080/"
        },
        "id": "B-tT5njmuHXh",
        "outputId": "2e8b0a7e-e0ad-40e6-d268-1094e1a33033"
      },
      "execution_count": null,
      "outputs": [
        {
          "output_type": "execute_result",
          "data": {
            "text/plain": [
              "[{'_id': ObjectId('629f27e2f4dda5cff7ffde4a'),\n",
              "  'address': {'city': 'bapatla',\n",
              "   'floor': None,\n",
              "   'number': 210,\n",
              "   'postalcode': '522101',\n",
              "   'street': 'SNP Agraharam'},\n",
              "  'age': '27',\n",
              "  'favouritefruits': ['apple', 'mango', 'orange'],\n",
              "  'gender': 'Male',\n",
              "  'likes_code': False,\n",
              "  'name': 'harendra'},\n",
              " {'_id': ObjectId('629f28e3f4dda5cff7ffde4c'),\n",
              "  'address': {'city': 'Bapatla',\n",
              "   'floor': None,\n",
              "   'number': None,\n",
              "   'postalcode': '522101',\n",
              "   'street': None},\n",
              "  'age': '54',\n",
              "  'favouritefruits': ['apple', 'guava', 'mango'],\n",
              "  'gender': 'Male',\n",
              "  'likes_code': False,\n",
              "  'name': 'Narendra'},\n",
              " {'_id': ObjectId('629f28e3f4dda5cff7ffde4d'),\n",
              "  'address': {'city': 'Bapatla',\n",
              "   'floor': None,\n",
              "   'number': None,\n",
              "   'postalcode': '522101',\n",
              "   'street': None},\n",
              "  'age': '53',\n",
              "  'favouritefruits': ['apple', 'guava', 'mango'],\n",
              "  'gender': 'Female',\n",
              "  'likes_code': False,\n",
              "  'name': 'Padmavathi'}]"
            ]
          },
          "metadata": {},
          "execution_count": 25
        }
      ]
    },
    {
      "cell_type": "markdown",
      "source": [
        "##Update"
      ],
      "metadata": {
        "id": "f8MQksZ5uuN9"
      }
    },
    {
      "cell_type": "code",
      "source": [
        "## Update an existing document\n",
        "update_result = kollection3.update_one( \n",
        "    {'name' : 'harendra'}, \n",
        "    {'$set' : { 'age' : 54 }} ) \n",
        "\n",
        "list (kollection3.find( {'name' : 'harendra' } ))"
      ],
      "metadata": {
        "colab": {
          "base_uri": "https://localhost:8080/"
        },
        "id": "U5lZeHA7uHga",
        "outputId": "01c16052-b181-4ceb-d6bb-c77ce5b53c95"
      },
      "execution_count": null,
      "outputs": [
        {
          "output_type": "execute_result",
          "data": {
            "text/plain": [
              "[{'_id': ObjectId('629f27e2f4dda5cff7ffde4a'),\n",
              "  'address': {'city': 'bapatla',\n",
              "   'floor': None,\n",
              "   'number': 210,\n",
              "   'postalcode': '522101',\n",
              "   'street': 'SNP Agraharam'},\n",
              "  'age': 54,\n",
              "  'favouritefruits': ['apple', 'mango', 'orange'],\n",
              "  'gender': 'Male',\n",
              "  'likes_code': False,\n",
              "  'name': 'harendra'}]"
            ]
          },
          "metadata": {},
          "execution_count": 30
        }
      ]
    },
    {
      "cell_type": "code",
      "source": [
        "## Update an existing document\n",
        "update_result = kollection3.update_one( \n",
        "    {'name' : 'harendra'}, \n",
        "    {'$set' : { 'name' : 'harendra sai nath' }} ) \n",
        "\n",
        "list (kollection3.find( {'name' : 'harendra sai nath' } ))"
      ],
      "metadata": {
        "colab": {
          "base_uri": "https://localhost:8080/"
        },
        "id": "dNC_toaYvWe4",
        "outputId": "7c2f821f-1ba5-43e4-cd12-39cd5f82d0f1"
      },
      "execution_count": null,
      "outputs": [
        {
          "output_type": "execute_result",
          "data": {
            "text/plain": [
              "[{'_id': ObjectId('629f27e2f4dda5cff7ffde4a'),\n",
              "  'address': {'city': 'bapatla',\n",
              "   'floor': None,\n",
              "   'number': 210,\n",
              "   'postalcode': '522101',\n",
              "   'street': 'SNP Agraharam'},\n",
              "  'age': 54,\n",
              "  'favouritefruits': ['apple', 'mango', 'orange'],\n",
              "  'gender': 'Male',\n",
              "  'likes_code': False,\n",
              "  'name': 'harendra sai nath'}]"
            ]
          },
          "metadata": {},
          "execution_count": 34
        }
      ]
    }
  ]
}